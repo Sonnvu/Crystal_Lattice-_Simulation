{
 "cells": [
  {
   "cell_type": "markdown",
   "id": "6dd34b08",
   "metadata": {},
   "source": [
    "# Project 3: Crystal Lattice"
   ]
  },
  {
   "cell_type": "markdown",
   "id": "b906de2f",
   "metadata": {},
   "source": [
    "In this project, we will have in total of __4 simulations__ which will represent a __3x3x3 matrix of atoms__ using __velocity verlet__ integration, __backward Euler__, __forward Euler__ and __Verlet with damped spring__. The structure of the note book will be as follow:\n",
    "<br>\n",
    "- Data structure definition\n",
    "- Helper functions and integration methods\n",
    "- Undamped simulation and graph\n",
    "- Damped spring simulation"
   ]
  },
  {
   "cell_type": "markdown",
   "id": "1ca492b6",
   "metadata": {},
   "source": [
    "### Defining a class called \"Atom\" "
   ]
  },
  {
   "cell_type": "markdown",
   "id": "af6a1b8c",
   "metadata": {},
   "source": [
    "In this code section, we defined several global constants and variable which mainly help with the reset_system() function that will be implemented later. \n",
    "\n",
    "**Plotting method**: In order to **monitor and plot** kinetic, potential and total energy of the system over time, we use global lists such as **kinetic_energies**, **potential_energies**, **total_energies** and combine it with list **times** for ploting using matplotlib\n",
    "<br>\n",
    "<br>\n",
    "__Data Structure__: Instead of defining a __system class__ in the reference code, we create a __class__ called __\"Atom\"__ for the atom object in the system. That way we can find neighbors and access each inidivual __objects__ and __attributes__ easier. The atom's class significant attributes are __origin__ and __neighbor attributes__. \n",
    "- origin: An Atom initial position. That way we can calculate the spring force of each atom seperately and then combine them back together when calculating net force on one atom to avoid double counting the force\n",
    "- neighbor: A list storing an atom neighbors, which will be a list of other atom objects. \n",
    "- total_force(self, k): Run through an atom's list of neighbor, then calculate the net force impacted on that atom.\n",
    "- total_force(self, k, b): Same function as the total_force() method above but also put damping force in to account"
   ]
  },
  {
   "cell_type": "code",
   "execution_count": null,
   "id": "a8590bdf",
   "metadata": {},
   "outputs": [],
   "source": [
    "from vpython import *\n",
    "import numpy as np\n",
    "import random\n",
    "import matplotlib.pyplot as plt\n",
    "\n",
    "global t, dt, times, potential_energies, kinetic_energies, total_energies\n",
    "\n",
    "class Atom:\n",
    "    def __init__(self, position, velocity):\n",
    "        self.position = vec(*position)\n",
    "        self.velocity = vec(*velocity)\n",
    "        self.origin = vec(*position)\n",
    "        self.mass = 1\n",
    "        self.obj = sphere(pos=self.position, radius=0.3, color=vector(0,0.58,0.69))\n",
    "        self.neighbors = []\n",
    "        self.distance = {}\n",
    "                \n",
    "    def total_force(self, k):\n",
    "        net_force = vector(0, 0, 0)\n",
    "        for neighbor in self.neighbors:\n",
    "            f1 = -k*(self.position - self.origin)\n",
    "            f2 = -k*(neighbor.position - neighbor.origin)\n",
    "            f = f1 + f2\n",
    "            net_force += f\n",
    "        return net_force\n",
    "    \n",
    "    def total_force_damping(self, k, b):\n",
    "        net_force = vector(0, 0, 0)\n",
    "        for neighbor in self.neighbors:\n",
    "            f1 = -k*(self.position - self.origin)\n",
    "            f2 = -k*(neighbor.position - neighbor.origin)\n",
    "            f_damping = -b * self.velocity\n",
    "            f = f1 + f2 + f_damping\n",
    "            net_force += f\n",
    "        return net_force"
   ]
  },
  {
   "cell_type": "markdown",
   "id": "7a2e7139",
   "metadata": {},
   "source": [
    "### Defining helper functions and intergration methods"
   ]
  },
  {
   "cell_type": "markdown",
   "id": "7e3ef3b0",
   "metadata": {},
   "source": [
    "- **calculate_energy(matrix, kinetic_energy, potential_energy, time, t)**: Find the kinetic energy and potential energy of the system at a specific time step, then appending KE, PE, and time step value to a list for plotting later\n",
    "- **plot_energy()**: A function to plot potential, kinetic and total energy of the system\n",
    "- **update_pos_verlet(atom, dt, k)**: update a specific atom position with a desired dt and spring constant using **velocity verlet** integration\n",
    "- **update_pos_backwardEuler(atom, dt, k)**: update a specific atom position using **Backward Euler** which uses v(t) to calculate the position first then update new velocity v(t + dt)\n",
    "- **update_pos_forwardEuler(atom, dt, k)**: update a specific atom position using **Forward Euler** which find v(t + dt) first the using that next state velocity to find the position of the atom\n",
    "- **update_pos_damping(atom, dt, k)**: update a specific atom positon using **verlet** integration with **spring damping** "
   ]
  },
  {
   "cell_type": "code",
   "execution_count": null,
   "id": "9a5b7223",
   "metadata": {},
   "outputs": [],
   "source": [
    "def calculate_energy(matrix, kinetic_energy, potential_energy, time, t):\n",
    "    KE = 0\n",
    "    PE = 0\n",
    "    for x in range(-1, 2):\n",
    "        for y in range(-1, 2):\n",
    "            for z in range(-1, 2):\n",
    "                atom = matrix[x][y][z]\n",
    "                KE += 0.5 * atom.mass * dot(atom.velocity, atom.velocity)\n",
    "                PE += 0.5  * k *mag(atom.position - atom.origin)**2\n",
    "    \n",
    "    # Append energy values to lists\n",
    "    potential_energy.append(PE)\n",
    "    kinetic_energy.append(KE)\n",
    "    time.append(t)\n",
    "\n",
    "def plot_energy():\n",
    "    # Plot energy values\n",
    "    plt.plot(times, potential_energies, label='Potential Energy')\n",
    "    plt.plot(times, kinetic_energies, label='Kinetic Energy')\n",
    "    plt.plot(times, [potential_energies[i] + kinetic_energies[i] for i in range(len(times))], label='Total Energy')\n",
    "    plt.legend()\n",
    "    plt.xlabel('Time')\n",
    "    plt.ylabel('Energy')\n",
    "    plt.show()\n",
    "    \n",
    "def update_pos_verlet(atom, dt, k):\n",
    "    F1 = atom.total_force(k)    # Update position using Verlet algorithm\n",
    "    atom.position += atom.velocity * dt + 0.5 * (F1 / atom.mass) * dt ** 2     # Compute force at new position\n",
    "    F2 = atom.total_force(k)    # Update velocity using Verlet algorithm\n",
    "    atom.velocity += 0.5 * ((F1 + F2) / atom.mass) * dt            # Update the sphere object position\n",
    "    atom.obj.pos = atom.position\n",
    "\n",
    "def update_pos_backwardEuler(atom, dt, k):\n",
    "    # Update position first then find next velocity\n",
    "    atom.position += atom.velocity*dt\n",
    "    atom.obj.pos = atom.position\n",
    "    F = atom.total_force(k)\n",
    "    acceleration = F/atom.mass\n",
    "    atom.velocity += acceleration*dt\n",
    "    \n",
    "def update_pos_forwardEuler(atom, dt, k):\n",
    "    # Update position with next velocity\n",
    "    F = atom.total_force(k)\n",
    "    acceleration = F/atom.mass\n",
    "    atom.velocity += acceleration*dt\n",
    "    atom.position += atom.velocity*dt\n",
    "    atom.obj.pos = atom.position\n",
    "    \n",
    "def update_pos_damping(atom, dt, k, b):\n",
    "    F1 = atom.total_force_damping(k, b)    # Update position using Verlet algorithm\n",
    "    atom.position += atom.velocity * dt + 0.5 * (F1 / atom.mass) * dt ** 2     # Compute force at new position\n",
    "    F2 = atom.total_force_damping(k, b)    # Update velocity using Verlet algorithm\n",
    "    atom.velocity += 0.5 * ((F1 + F2) / atom.mass) * dt            # Update the sphere object position\n",
    "    atom.obj.pos = atom.position"
   ]
  },
  {
   "cell_type": "markdown",
   "id": "c5df05eb",
   "metadata": {},
   "source": [
    "### Defining function to Initilize and Reset the system"
   ]
  },
  {
   "cell_type": "markdown",
   "id": "6d07679b",
   "metadata": {},
   "source": [
    "- **reset_system():** reset global variables and constant for the simulation to re-run and avoid duplication while plotting\n",
    "- **init_system():** initialize the system by creating a **3-dimensional numpy array** called atoms_matrix with (-1, 0, 1) indexing. While looping through each index of the 3D array to create object, it also initilize random velocity for each atom using **random.uniform()**. Next, the function loops through the matrix to find all corresponding neighbor for each atom"
   ]
  },
  {
   "cell_type": "code",
   "execution_count": null,
   "id": "07f5667c",
   "metadata": {
    "scrolled": true
   },
   "outputs": [],
   "source": [
    "def reset_system():\n",
    "    global t, dt, times, potential_energies, kinetic_energies, total_energies\n",
    "    t = 0\n",
    "    dt = 0.01\n",
    "    times = [0]\n",
    "    potential_energies = [0]\n",
    "    kinetic_energies = [0]\n",
    "    total_energies = [0]\n",
    "\n",
    "def init_system():\n",
    "    scene = canvas()\n",
    "    \n",
    "    # Initialize a 3D numpy array storing Atom objects to create a 3x3x3 matrix of atom\n",
    "    atoms_matrix = np.empty((3, 3, 3), dtype=Atom)\n",
    "    for i in range(-1, 2):\n",
    "        for j in range(-1, 2):\n",
    "            for k in range(-1, 2):\n",
    "                position = [i, j, k]\n",
    "                velocity = [random.uniform(-0.3, 0.3), random.uniform(-0.3, 0.3), random.uniform(-0.3, 0.3)]\n",
    "                atoms_matrix[i][j][k] = Atom(position, velocity)\n",
    "    \n",
    "    # Finding corresponding neighbors for each atom in the system\n",
    "    for x in range(-1, 2):\n",
    "        for y in range(-1, 2):\n",
    "            for z in range(-1, 2):\n",
    "                atom = atoms_matrix[x][y][z]\n",
    "                for dx in [-1, 0, 1]:\n",
    "                    for dy in [-1, 0, 1]:\n",
    "                        for dz in [-1, 0, 1]:\n",
    "                            if dx == dy == dz == 0:\n",
    "                                continue  # Skip the central atom\n",
    "                            nx = x + dx\n",
    "                            ny = y + dy\n",
    "                            nz = z + dz\n",
    "                            if -1 <= nx < 2 and -1 <= ny < 2 and -1 <= nz < 2:\n",
    "                                neighbor = atoms_matrix[nx][ny][nz]\n",
    "                                atom.neighbors.append(neighbor)\n",
    "                                distance = norm(neighbor.position - atom.position)\n",
    "                                atom.distance[neighbor] = distance\n",
    "    return atoms_matrix\n",
    "                        "
   ]
  },
  {
   "cell_type": "markdown",
   "id": "7e6715f1",
   "metadata": {},
   "source": [
    "# Molecular Crystal Structure (Undamped)"
   ]
  },
  {
   "cell_type": "markdown",
   "id": "226677eb",
   "metadata": {},
   "source": [
    "**OVerview**: In this simulation section, we will have 3 simulation which covers 3 integration method. Each code block will simulate a certain amount of time then show a plot of Kinetic, Potential and Total Energy. "
   ]
  },
  {
   "cell_type": "markdown",
   "id": "00f66e87",
   "metadata": {},
   "source": [
    "**Validation**: From our observation we can visually confirm that the system behave the way we wanted thus partly validate our simumation. From the graph we can see that through every time step, each Kinetic Energy peaks at t will also have a Potential Energy drop and vice versa. This prove that the total energy of the system is constantly conserved from Kinetic Energy converting into Potential Energy and vice versa. In addition, with damping spring force not taken accounted for, **despite the fluctuation, the whole system does not experience a loss of total energy** as shown in each simulation graph"
   ]
  },
  {
   "cell_type": "markdown",
   "id": "77c95015",
   "metadata": {},
   "source": [
    "## Simulation 1: Velocity Verlet Integration"
   ]
  },
  {
   "cell_type": "code",
   "execution_count": null,
   "id": "51234720",
   "metadata": {
    "scrolled": true
   },
   "outputs": [],
   "source": [
    "reset_system()\n",
    "atoms_matrix = init_system()\n",
    "dt = 0.01\n",
    "\n",
    "while t < 10:\n",
    "    rate(100)\n",
    "    for i in range(3):\n",
    "        for j in range(3):\n",
    "            for k in range(3):\n",
    "                atom = atoms_matrix[i][j][k]\n",
    "                update_pos_verlet(atom, dt, 0.5)\n",
    "    calculate_energy(atoms_matrix, kinetic_energies, potential_energies, times, t) \n",
    "    t += dt\n",
    "plot_energy()"
   ]
  },
  {
   "cell_type": "markdown",
   "id": "87c3268a",
   "metadata": {},
   "source": [
    "**Observation**: we can see that using a smaller time step such as **dt = 0.01** results in the system moving a lot smoother but slower so we have to shorten the **run time to 10**. The Total Energy is mainly conserved around 0.8 to 1 and fluctuates do to other aspect such as spring constant, equilibrium distance and integration method."
   ]
  },
  {
   "cell_type": "markdown",
   "id": "be01dbce",
   "metadata": {},
   "source": [
    "## Simulation 2: Backward Euler Integration"
   ]
  },
  {
   "cell_type": "code",
   "execution_count": null,
   "id": "a2240b81",
   "metadata": {
    "scrolled": true
   },
   "outputs": [],
   "source": [
    "reset_system()\n",
    "atoms_matrix = init_system()\n",
    "dt = 0.05\n",
    "\n",
    "while t < 15:\n",
    "    rate(100)\n",
    "    for i in range(3):\n",
    "        for j in range(3):\n",
    "            for k in range(3):\n",
    "                atom = atoms_matrix[i][j][k]\n",
    "                update_pos_backwardEuler(atom, dt, 0.5)\n",
    "    calculate_energy(atoms_matrix, kinetic_energies, potential_energies, times, t) \n",
    "    t += dt\n",
    "plot_energy()"
   ]
  },
  {
   "cell_type": "markdown",
   "id": "be8e8297",
   "metadata": {},
   "source": [
    "**Observation**: We can see that the simulation move very fast with **dt = 0.05** so **t < 15** is long enough for us to observe the system behavior. We can also see that the graph fluctuates a lot less using Backward Euler integration. However, the accuracy seems to decrease because there are some spot where Kinetic Energy and Potential Energy increase at the same time such as at **t = 2.9**."
   ]
  },
  {
   "cell_type": "markdown",
   "id": "2122624e",
   "metadata": {},
   "source": [
    "## Simulation 3: Forward Euler Integration"
   ]
  },
  {
   "cell_type": "code",
   "execution_count": null,
   "id": "1b73350f",
   "metadata": {
    "scrolled": true
   },
   "outputs": [],
   "source": [
    "reset_system()\n",
    "atoms_matrix = init_system()\n",
    "\n",
    "dt = 0.03\n",
    "\n",
    "while t < 12:\n",
    "    rate(100)\n",
    "    for i in range(3):\n",
    "        for j in range(3):\n",
    "            for k in range(3):\n",
    "                atom = atoms_matrix[i][j][k]\n",
    "                update_pos_forwardEuler(atom, dt, 0.5)\n",
    "    calculate_energy(atoms_matrix, kinetic_energies, potential_energies, times, t) \n",
    "    t += dt\n",
    "plot_energy()"
   ]
  },
  {
   "cell_type": "markdown",
   "id": "d1a534d7",
   "metadata": {},
   "source": [
    "**Observation**: We can see that the simulation moves well with **dt = 0.03** and **t < 12** is adequate for us to observe the system behavior. By using Forward integration we can see that all peaks of Kinetic Energy correspond to all lows of Potential Energy, which means this integration may be the most accurate out of the three can be infered with this simulation result"
   ]
  },
  {
   "cell_type": "markdown",
   "id": "122a9b3e",
   "metadata": {},
   "source": [
    "# Molecular Crystal Structure (Spring Damping)"
   ]
  },
  {
   "cell_type": "markdown",
   "id": "6f1113a1",
   "metadata": {},
   "source": [
    "## Simulation 4: Verlet Integeration with Spring Damping"
   ]
  },
  {
   "cell_type": "code",
   "execution_count": null,
   "id": "41818cb3",
   "metadata": {
    "scrolled": true
   },
   "outputs": [],
   "source": [
    "reset_system()\n",
    "atoms_matrix = init_system()\n",
    "\n",
    "dt = 0.03\n",
    "b = 0.04\n",
    "\n",
    "while t < 15:\n",
    "    rate(100)\n",
    "    for i in range(3):\n",
    "        for j in range(3):\n",
    "            for k in range(3):\n",
    "                atom = atoms_matrix[i][j][k]\n",
    "                update_pos_damping(atom, dt, 0.5, b)\n",
    "    calculate_energy(atoms_matrix, kinetic_energies, potential_energies, times, t) \n",
    "    t += dt\n",
    "plot_energy()"
   ]
  },
  {
   "cell_type": "markdown",
   "id": "688be4ec",
   "metadata": {},
   "source": [
    "**Observaton**: The simulation starts off with atoms exerting forces onto each other resulting in the system wobbleness. But due to the extra damping spring force, total energy was not conserved and gradually decreases. We can visually confirm the loss of energy by observing the loss of movement of the system as it slowly become still at the end, which validates our simulation."
   ]
  }
 ],
 "metadata": {
  "kernelspec": {
   "display_name": "Python 3 (ipykernel)",
   "language": "python",
   "name": "python3"
  },
  "language_info": {
   "codemirror_mode": {
    "name": "ipython",
    "version": 3
   },
   "file_extension": ".py",
   "mimetype": "text/x-python",
   "name": "python",
   "nbconvert_exporter": "python",
   "pygments_lexer": "ipython3",
   "version": "3.9.15"
  }
 },
 "nbformat": 4,
 "nbformat_minor": 5
}
