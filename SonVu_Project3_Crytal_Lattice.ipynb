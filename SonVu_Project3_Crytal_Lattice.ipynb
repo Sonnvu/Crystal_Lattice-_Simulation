{
 "cells": [
  {
   "cell_type": "markdown",
   "id": "6dd34b08",
   "metadata": {},
   "source": [
    "# Project 3: Crystal Lattice"
   ]
  },
  {
   "cell_type": "markdown",
   "id": "1ca492b6",
   "metadata": {},
   "source": [
    "### Defining a class called \"Atom\" "
   ]
  },
  {
   "cell_type": "code",
   "execution_count": 8,
   "id": "a8590bdf",
   "metadata": {},
   "outputs": [],
   "source": [
    "from vpython import *\n",
    "import numpy as np\n",
    "import random\n",
    "import matplotlib.pyplot as plt\n",
    "\n",
    "global t, dt, times, potential_energies, kinetic_energies, total_energies\n",
    "\n",
    "class Atom:\n",
    "    def __init__(self, position, velocity):\n",
    "        self.position = vec(*position)\n",
    "        self.velocity = vec(*velocity)\n",
    "        self.origin = vec(*position)\n",
    "        self.mass = 1\n",
    "        self.obj = sphere(pos=self.position, radius=0.3, color=vector(0,0.58,0.69))\n",
    "        self.neighbors = []\n",
    "        self.distance = {}\n",
    "                \n",
    "    def total_force(self, k):\n",
    "        net_force = vector(0, 0, 0)\n",
    "        for neighbor in self.neighbors:\n",
    "            f1 = -k*(self.position - self.origin)\n",
    "            f2 = -k*(neighbor.position - neighbor.origin)\n",
    "            f = f1 + f2\n",
    "            net_force += f\n",
    "        return net_force\n",
    "    \n",
    "    def total_force_damping(self, k, b):\n",
    "        net_force = vector(0, 0, 0)\n",
    "        for neighbor in self.neighbors:\n",
    "            f1 = -k*(self.position - self.origin)\n",
    "            f2 = -k*(neighbor.position - neighbor.origin)\n",
    "            f_damping = -b * self.velocity\n",
    "            f = f1 + f2 + f_damping\n",
    "            net_force += f\n",
    "        return net_force"
   ]
  },
  {
   "cell_type": "markdown",
   "id": "7a2e7139",
   "metadata": {},
   "source": [
    "### Defining helper functions and intergration methods"
   ]
  },
  {
   "cell_type": "code",
   "execution_count": null,
   "id": "9a5b7223",
   "metadata": {},
   "outputs": [],
   "source": [
    "def calculate_energy(matrix, kinetic_energy, potential_energy, time, t):\n",
    "    KE = 0\n",
    "    PE = 0\n",
    "    for x in range(-1, 2):\n",
    "        for y in range(-1, 2):\n",
    "            for z in range(-1, 2):\n",
    "                atom = matrix[x][y][z]\n",
    "                KE += 0.5 * atom.mass * dot(atom.velocity, atom.velocity)\n",
    "                PE += 0.5  * k *mag(atom.position - atom.origin)**2\n",
    "    \n",
    "    # Append energy values to lists\n",
    "    potential_energy.append(PE)\n",
    "    kinetic_energy.append(KE)\n",
    "    time.append(t)\n",
    "\n",
    "def plot_energy():\n",
    "    # Plot energy values\n",
    "    plt.plot(times, potential_energies, label='Potential Energy')\n",
    "    plt.plot(times, kinetic_energies, label='Kinetic Energy')\n",
    "    plt.plot(times, [potential_energies[i] + kinetic_energies[i] for i in range(len(times))], label='Total Energy')\n",
    "    plt.legend()\n",
    "    plt.xlabel('Time')\n",
    "    plt.ylabel('Energy')\n",
    "    plt.show()\n",
    "    \n",
    "def update_pos_verlet(atom, dt, k):\n",
    "    F1 = atom.total_force(k)    # Update position using Verlet algorithm\n",
    "    atom.position += atom.velocity * dt + 0.5 * (F1 / atom.mass) * dt ** 2     # Compute force at new position\n",
    "    F2 = atom.total_force(k)    # Update velocity using Verlet algorithm\n",
    "    atom.velocity += 0.5 * ((F1 + F2) / atom.mass) * dt            # Update the sphere object position\n",
    "    atom.obj.pos = atom.position\n",
    "\n",
    "def update_pos_backwardEuler(atom, dt, k):\n",
    "    # Update position first then find next velocity\n",
    "    atom.position += atom.velocity*dt\n",
    "    atom.obj.pos = atom.position\n",
    "    F = atom.total_force(k)\n",
    "    acceleration = F/atom.mass\n",
    "    atom.velocity += acceleration*dt\n",
    "    \n",
    "def update_pos_forwardEuler(atom, dt, k):\n",
    "    # Update position with next velocity\n",
    "    F = atom.total_force(k)\n",
    "    acceleration = F/atom.mass\n",
    "    atom.velocity += acceleration*dt\n",
    "    atom.position += atom.velocity*dt\n",
    "    atom.obj.pos = atom.position\n",
    "    \n",
    "def update_pos_damping(atom, dt, k, b):\n",
    "    F1 = atom.total_force_damping(k, b)    # Update position using Verlet algorithm\n",
    "    atom.position += atom.velocity * dt + 0.5 * (F1 / atom.mass) * dt ** 2     # Compute force at new position\n",
    "    F2 = atom.total_force_damping(k, b)    # Update velocity using Verlet algorithm\n",
    "    atom.velocity += 0.5 * ((F1 + F2) / atom.mass) * dt            # Update the sphere object position\n",
    "    atom.obj.pos = atom.position"
   ]
  },
  {
   "cell_type": "markdown",
   "id": "c5df05eb",
   "metadata": {},
   "source": [
    "### Defining function to Initilize and Reset the system"
   ]
  },
  {
   "cell_type": "code",
   "execution_count": null,
   "id": "07f5667c",
   "metadata": {
    "scrolled": true
   },
   "outputs": [],
   "source": [
    "def reset_system():\n",
    "    global t, dt, times, potential_energies, kinetic_energies, total_energies\n",
    "    t = 0\n",
    "    dt = 0.01\n",
    "    times = [0]\n",
    "    potential_energies = [0]\n",
    "    kinetic_energies = [0]\n",
    "    total_energies = [0]\n",
    "\n",
    "def init_system(t, times, potential_energies, kinetic_energies, total_energies):\n",
    "    scene = canvas()\n",
    "\n",
    "    # Initialize the matrix of atoms\n",
    "    t = 0\n",
    "    times = [0]\n",
    "    potential_energies = [0]\n",
    "    kinetic_energies = [0]\n",
    "    total_energies = [0]\n",
    "    k = 1  # Spring constant\n",
    "    m = 1\n",
    "    dt = 0.01\n",
    "    atoms_matrix = np.empty((3, 3, 3), dtype=Atom)\n",
    "    for i in range(-1, 2):\n",
    "        for j in range(-1, 2):\n",
    "            for k in range(-1, 2):\n",
    "                position = [i, j, k]\n",
    "                velocity = [random.uniform(-0.3, 0.3), random.uniform(-0.3, 0.3), random.uniform(-0.3, 0.3)]\n",
    "                atoms_matrix[i][j][k] = Atom(position, velocity)\n",
    "\n",
    "    for x in range(-1, 2):\n",
    "        for y in range(-1, 2):\n",
    "            for z in range(-1, 2):\n",
    "                atom = atoms_matrix[x][y][z]\n",
    "                for dx in [-1, 0, 1]:\n",
    "                    for dy in [-1, 0, 1]:\n",
    "                        for dz in [-1, 0, 1]:\n",
    "                            if dx == dy == dz == 0:\n",
    "                                continue  # Skip the central atom\n",
    "                            nx = x + dx\n",
    "                            ny = y + dy\n",
    "                            nz = z + dz\n",
    "                            if -1 <= nx < 2 and -1 <= ny < 2 and -1 <= nz < 2:\n",
    "                                neighbor = atoms_matrix[nx][ny][nz]\n",
    "                                atom.neighbors.append(neighbor)\n",
    "                                distance = norm(neighbor.position - atom.position)\n",
    "                                atom.distance[neighbor] = distance\n",
    "    return atoms_matrix\n",
    "                        "
   ]
  },
  {
   "cell_type": "markdown",
   "id": "7e6715f1",
   "metadata": {},
   "source": [
    "# Molecular Crystal Structure (Undamped)"
   ]
  },
  {
   "cell_type": "markdown",
   "id": "77c95015",
   "metadata": {},
   "source": [
    "## Simulation 1: Velocity Verlet Integration"
   ]
  },
  {
   "cell_type": "code",
   "execution_count": null,
   "id": "51234720",
   "metadata": {
    "scrolled": true
   },
   "outputs": [],
   "source": [
    "reset_system()\n",
    "atoms_matrix = init_system(t, times, potential_energies, kinetic_energies, total_energies)\n",
    "dt = 0.01\n",
    "\n",
    "while t < 10:\n",
    "    rate(100)\n",
    "    for i in range(3):\n",
    "        for j in range(3):\n",
    "            for k in range(3):\n",
    "                atom = atoms_matrix[i][j][k]\n",
    "                update_pos_verlet(atom, dt, 0.5)\n",
    "    calculate_energy(atoms_matrix, kinetic_energies, potential_energies, times, t) \n",
    "    t += dt\n",
    "plot_energy()"
   ]
  },
  {
   "cell_type": "markdown",
   "id": "be01dbce",
   "metadata": {},
   "source": [
    "## Simulation 2: Backward Euler Integration"
   ]
  },
  {
   "cell_type": "code",
   "execution_count": null,
   "id": "a2240b81",
   "metadata": {
    "scrolled": true
   },
   "outputs": [],
   "source": [
    "reset_system()\n",
    "atoms_matrix = init_system(t, times, potential_energies, kinetic_energies, total_energies)\n",
    "dt = 0.05\n",
    "\n",
    "while t < 10:\n",
    "    rate(100)\n",
    "    for i in range(3):\n",
    "        for j in range(3):\n",
    "            for k in range(3):\n",
    "                atom = atoms_matrix[i][j][k]\n",
    "                update_pos_backwardEuler(atom, dt, 0.5)\n",
    "    calculate_energy(atoms_matrix, kinetic_energies, potential_energies, times, t) \n",
    "    t += dt\n",
    "plot_energy()"
   ]
  },
  {
   "cell_type": "markdown",
   "id": "2122624e",
   "metadata": {},
   "source": [
    "## Simulation 3: Forward Euler Integration"
   ]
  },
  {
   "cell_type": "code",
   "execution_count": null,
   "id": "1b73350f",
   "metadata": {
    "scrolled": true
   },
   "outputs": [],
   "source": [
    "reset_system()\n",
    "atoms_matrix = init_system(t, times, potential_energies, kinetic_energies, total_energies)\n",
    "\n",
    "dt = 0.03\n",
    "\n",
    "while t < 10:\n",
    "    rate(100)\n",
    "    for i in range(3):\n",
    "        for j in range(3):\n",
    "            for k in range(3):\n",
    "                atom = atoms_matrix[i][j][k]\n",
    "                update_pos_forwardEuler(atom, dt, 0.5)\n",
    "    calculate_energy(atoms_matrix, kinetic_energies, potential_energies, times, t) \n",
    "    t += dt\n",
    "plot_energy()"
   ]
  },
  {
   "cell_type": "markdown",
   "id": "122a9b3e",
   "metadata": {},
   "source": [
    "# Molecular Crystal Structure (Spring Damping)"
   ]
  },
  {
   "cell_type": "markdown",
   "id": "6f1113a1",
   "metadata": {},
   "source": [
    "## Simulation 4: Verlet Integeration with Spring Damping"
   ]
  },
  {
   "cell_type": "code",
   "execution_count": 16,
   "id": "41818cb3",
   "metadata": {},
   "outputs": [
    {
     "data": {
      "text/html": [
       "<div id=\"glowscript\" class=\"glowscript\"></div>"
      ],
      "text/plain": [
       "<IPython.core.display.HTML object>"
      ]
     },
     "metadata": {},
     "output_type": "display_data"
    },
    {
     "data": {
      "application/javascript": [
       "if (typeof Jupyter !== \"undefined\") { window.__context = { glowscript_container: $(\"#glowscript\").removeAttr(\"id\")};}else{ element.textContent = ' ';}"
      ],
      "text/plain": [
       "<IPython.core.display.Javascript object>"
      ]
     },
     "metadata": {},
     "output_type": "display_data"
    },
    {
     "data": {
      "image/png": "[encoded data removed]",
      "text/plain": [
       "<Figure size 640x480 with 1 Axes>"
      ]
     },
     "metadata": {},
     "output_type": "display_data"
    }
   ],
   "source": [
    "reset_system()\n",
    "atoms_matrix = init_system(t, times, potential_energies, kinetic_energies, total_energies)\n",
    "\n",
    "dt = 0.03\n",
    "b = 0.04\n",
    "\n",
    "while t < 10:\n",
    "    rate(100)\n",
    "    for i in range(3):\n",
    "        for j in range(3):\n",
    "            for k in range(3):\n",
    "                atom = atoms_matrix[i][j][k]\n",
    "                update_pos_damping(atom, dt, 0.5, b)\n",
    "    calculate_energy(atoms_matrix, kinetic_energies, potential_energies, times, t) \n",
    "    t += dt\n",
    "plot_energy()"
   ]
  }
 ],
 "metadata": {
  "kernelspec": {
   "display_name": "Python 3 (ipykernel)",
   "language": "python",
   "name": "python3"
  },
  "language_info": {
   "codemirror_mode": {
    "name": "ipython",
    "version": 3
   },
   "file_extension": ".py",
   "mimetype": "text/x-python",
   "name": "python",
   "nbconvert_exporter": "python",
   "pygments_lexer": "ipython3",
   "version": "3.9.15"
  }
 },
 "nbformat": 4,
 "nbformat_minor": 5
}
